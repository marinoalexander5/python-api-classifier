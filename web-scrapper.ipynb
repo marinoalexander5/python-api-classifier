{
 "cells": [
  {
   "cell_type": "code",
   "execution_count": 1,
   "id": "sustainable-title",
   "metadata": {},
   "outputs": [
    {
     "name": "stderr",
     "output_type": "stream",
     "text": [
      "Matplotlib is building the font cache; this may take a moment.\n"
     ]
    }
   ],
   "source": [
    "import pandas as pd\n",
    "import numpy as np\n",
    "import argparse\n",
    "import os\n",
    "import urllib3\n",
    "from tqdm import trange, tqdm\n",
    "from concurrent.futures import ProcessPoolExcecutor, as_\n",
    "import requests\n",
    "from bs4 import BeautifulSoup\n",
    "import matplotlib.pyplot as plt\n",
    "import matplotlib.image as mpim"
   ]
  },
  {
   "cell_type": "code",
   "execution_count": 2,
   "id": "perceived-saver",
   "metadata": {},
   "outputs": [],
   "source": [
    "# para data\n",
    "def get_data(website):\n",
    "    r = requests.get(website).text\n",
    "    soup = BeautifulSoup(r, 'html.parser')\n",
    "    return soup"
   ]
  },
  {
   "cell_type": "code",
   "execution_count": 23,
   "id": "rational-november",
   "metadata": {},
   "outputs": [],
   "source": [
    "# para imagenes\n",
    "def get_images(website):\n",
    "    r = requests.get(website, headers={\"User-Agent\": \"Mozilla/5.0 (X11; Ubuntu; Linux x86_64; rv:84.0) Gecko/20100101 Firefox/84.0\"})\n",
    "    soup = BeautifulSoup(r.content, 'html.parser')\n",
    "#     if r.status_code == 200:\n",
    "#         with open('./dataset/image.jpg', 'wb') as f:\n",
    "#             f.write(r.content)\n",
    "    return soup"
   ]
  },
  {
   "cell_type": "code",
   "execution_count": 4,
   "id": "usual-screen",
   "metadata": {},
   "outputs": [],
   "source": [
    "website = 'https://www.shutterstock.com/search/plastic+bottles'\n",
    "# website = 'https://www.worldometers.info/coronavirus/#countries'\n",
    "# website = 'https://en.wikipedia.org/wiki/List_of_countries_and_dependencies_by_population'"
   ]
  },
  {
   "cell_type": "code",
   "execution_count": 29,
   "id": "eleven-preserve",
   "metadata": {},
   "outputs": [],
   "source": [
    "# soup = get_data(website)\n",
    "soup = get_images(website)|"
   ]
  }
 ],
 "metadata": {
  "kernelspec": {
   "display_name": "wsenv",
   "language": "python",
   "name": "wsenv"
  },
  "language_info": {
   "codemirror_mode": {
    "name": "ipython",
    "version": 3
   },
   "file_extension": ".py",
   "mimetype": "text/x-python",
   "name": "python",
   "nbconvert_exporter": "python",
   "pygments_lexer": "ipython3",
   "version": "3.6.9"
  }
 },
 "nbformat": 4,
 "nbformat_minor": 5
}
